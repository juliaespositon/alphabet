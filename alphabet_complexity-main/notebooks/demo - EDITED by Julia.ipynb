{
 "cells": [
  {
   "cell_type": "markdown",
   "id": "eaf491ec",
   "metadata": {},
   "source": [
    "<font size = \"5\"> Importing Libraries </font> "
   ]
  },
  {
   "cell_type": "code",
   "execution_count": 1,
   "id": "376cfeb6-904e-4da2-8019-d200d6b739b8",
   "metadata": {},
   "outputs": [],
   "source": [
    "%%capture\n",
    "cd .."
   ]
  },
  {
   "cell_type": "code",
   "execution_count": 2,
   "id": "bddef2cc-0e9c-40d5-a09d-8b11bb04d8d8",
   "metadata": {},
   "outputs": [],
   "source": [
    "import numpy as np\n",
    "from matplotlib import pyplot as plt\n",
    "from utils.unicode_utils import create_df_unicode, code_type, get_language, make_picture\n",
    "from utils.complexity_metrics import pixel_count_complexity\n",
    "import pandas as pd   #not necessary -- was just testing things out and might as well have it"
   ]
  },
  {
   "cell_type": "markdown",
   "id": "72f2e052",
   "metadata": {},
   "source": [
    "<font size = \"5\">   </font>"
   ]
  },
  {
   "cell_type": "markdown",
   "id": "3dad5cb8",
   "metadata": {},
   "source": [
    "<font size = \"5\"> Creating the DataFrames </font>"
   ]
  },
  {
   "cell_type": "code",
   "execution_count": 3,
   "id": "5dac31d7-45cc-4b67-9f8f-b8aa4282e09c",
   "metadata": {
    "tags": []
   },
   "outputs": [
    {
     "data": {
      "text/html": [
       "<div>\n",
       "<style scoped>\n",
       "    .dataframe tbody tr th:only-of-type {\n",
       "        vertical-align: middle;\n",
       "    }\n",
       "\n",
       "    .dataframe tbody tr th {\n",
       "        vertical-align: top;\n",
       "    }\n",
       "\n",
       "    .dataframe thead th {\n",
       "        text-align: right;\n",
       "    }\n",
       "</style>\n",
       "<table border=\"1\" class=\"dataframe\">\n",
       "  <thead>\n",
       "    <tr style=\"text-align: right;\">\n",
       "      <th></th>\n",
       "      <th>code</th>\n",
       "      <th>note</th>\n",
       "      <th>rep</th>\n",
       "    </tr>\n",
       "  </thead>\n",
       "  <tbody>\n",
       "    <tr>\n",
       "      <th>0</th>\n",
       "      <td>0020</td>\n",
       "      <td>SPACE</td>\n",
       "      <td></td>\n",
       "    </tr>\n",
       "    <tr>\n",
       "      <th>1</th>\n",
       "      <td>0021</td>\n",
       "      <td>EXCLAMATION MARK</td>\n",
       "      <td>!</td>\n",
       "    </tr>\n",
       "    <tr>\n",
       "      <th>2</th>\n",
       "      <td>0022</td>\n",
       "      <td>QUOTATION MARK</td>\n",
       "      <td>\"</td>\n",
       "    </tr>\n",
       "    <tr>\n",
       "      <th>3</th>\n",
       "      <td>0023</td>\n",
       "      <td>NUMBER SIGN</td>\n",
       "      <td>#</td>\n",
       "    </tr>\n",
       "    <tr>\n",
       "      <th>4</th>\n",
       "      <td>0024</td>\n",
       "      <td>DOLLAR SIGN</td>\n",
       "      <td>$</td>\n",
       "    </tr>\n",
       "    <tr>\n",
       "      <th>...</th>\n",
       "      <td>...</td>\n",
       "      <td>...</td>\n",
       "      <td>...</td>\n",
       "    </tr>\n",
       "    <tr>\n",
       "      <th>34818</th>\n",
       "      <td>E01EB</td>\n",
       "      <td>VARIATION SELECTOR-252</td>\n",
       "      <td>󠇫</td>\n",
       "    </tr>\n",
       "    <tr>\n",
       "      <th>34819</th>\n",
       "      <td>E01EC</td>\n",
       "      <td>VARIATION SELECTOR-253</td>\n",
       "      <td>󠇬</td>\n",
       "    </tr>\n",
       "    <tr>\n",
       "      <th>34820</th>\n",
       "      <td>E01ED</td>\n",
       "      <td>VARIATION SELECTOR-254</td>\n",
       "      <td>󠇭</td>\n",
       "    </tr>\n",
       "    <tr>\n",
       "      <th>34821</th>\n",
       "      <td>E01EE</td>\n",
       "      <td>VARIATION SELECTOR-255</td>\n",
       "      <td>󠇮</td>\n",
       "    </tr>\n",
       "    <tr>\n",
       "      <th>34822</th>\n",
       "      <td>E01EF</td>\n",
       "      <td>VARIATION SELECTOR-256</td>\n",
       "      <td>󠇯</td>\n",
       "    </tr>\n",
       "  </tbody>\n",
       "</table>\n",
       "<p>34823 rows × 3 columns</p>\n",
       "</div>"
      ],
      "text/plain": [
       "        code                    note rep\n",
       "0       0020                   SPACE    \n",
       "1       0021        EXCLAMATION MARK   !\n",
       "2       0022          QUOTATION MARK   \"\n",
       "3       0023             NUMBER SIGN   #\n",
       "4       0024             DOLLAR SIGN   $\n",
       "...      ...                     ...  ..\n",
       "34818  E01EB  VARIATION SELECTOR-252   󠇫\n",
       "34819  E01EC  VARIATION SELECTOR-253   󠇬\n",
       "34820  E01ED  VARIATION SELECTOR-254   󠇭\n",
       "34821  E01EE  VARIATION SELECTOR-255   󠇮\n",
       "34822  E01EF  VARIATION SELECTOR-256   󠇯\n",
       "\n",
       "[34823 rows x 3 columns]"
      ]
     },
     "execution_count": 3,
     "metadata": {},
     "output_type": "execute_result"
    }
   ],
   "source": [
    "df_unicode = create_df_unicode()\n",
    "df_unicode"
   ]
  },
  {
   "cell_type": "code",
   "execution_count": 4,
   "id": "c3f66584",
   "metadata": {},
   "outputs": [
    {
     "name": "stdout",
     "output_type": "stream",
     "text": [
      "в\n",
      "CYRILLIC SMALL LETTER VE\n",
      "0432\n"
     ]
    }
   ],
   "source": [
    "print(df_unicode['rep'][1000])     #so this will give you any of the characters and their representation, along with their code\n",
    "print(df_unicode['note'][1000])    #gives the name of the character\n",
    "print(df_unicode['code'][1000])     #gives the coded number universal for this character"
   ]
  },
  {
   "cell_type": "markdown",
   "id": "f8acbcd3",
   "metadata": {},
   "source": [
    "<font size = \"5\">   </font>"
   ]
  },
  {
   "cell_type": "markdown",
   "id": "5ae47e7f",
   "metadata": {},
   "source": [
    "<font size = \"5\"> Cutting DataFrame and Adding Language Column </font>"
   ]
  },
  {
   "cell_type": "markdown",
   "id": "6bda22c7",
   "metadata": {},
   "source": [
    "dataframe.apply = dataframe method that applies a function to a specific column in a dataframe, in this case, df_unicode.code is specifying the column to be used (\"code\")  ---> https://pandas.pydata.org/docs/reference/api/pandas.DataFrame.apply.html\n",
    "\n",
    "code_type function can be found in unicode_utils.py and determines the code type of the unicode code -- so we only want \"Writing Symbol\"'s because that's what we are working with. So the portion that says df_unicode[....].reset_index(drop=True) is first masking the dataframe by having a \"true/false\" statement in the brackets to determine which rows follow the requirement of the character being a writing symbol and eliminates the rows that do not follow this requirement. The reset index is just resetting the counting of all the rows to ignore the lost rows. "
   ]
  },
  {
   "cell_type": "code",
   "execution_count": 5,
   "id": "8cc8c6ed-97aa-4849-b5d5-ddea758287db",
   "metadata": {
    "tags": []
   },
   "outputs": [
    {
     "data": {
      "text/plain": [
       "ARABIC         1330\n",
       "CUNEIFORM      1234\n",
       "YI             1220\n",
       "LATIN          1213\n",
       "CJK            1165\n",
       "               ... \n",
       "GROUP             1\n",
       "UNCERTAINTY       1\n",
       "NEPTUNE           1\n",
       "BALLOT            1\n",
       "SPACE             1\n",
       "Name: language, Length: 819, dtype: int64"
      ]
     },
     "execution_count": 5,
     "metadata": {},
     "output_type": "execute_result"
    }
   ],
   "source": [
    "dfu = df_unicode[df_unicode.code.apply(code_type)=='Writing Symbol'].reset_index(drop=True)  #isolating writing symbols\n",
    "\n",
    "dfu['language'] = dfu.note.apply(get_language)   #this then applies the get_lanugage function to the dataframe column \"note\"\n",
    "                                 #this also assumes the first word of \"note\" is always the langauge -- double check\n",
    "    \n",
    "dfu.language.value_counts()        #returns the counts for each unique value in the new \"language\" column,\n",
    "                                    #essentially, all the languages and their counts"
   ]
  },
  {
   "cell_type": "code",
   "execution_count": 6,
   "id": "870f8f77-ef10-479e-9c4a-95666386fe01",
   "metadata": {},
   "outputs": [],
   "source": [
    "# for i in dfu.language.value_counts().index:\n",
    "#     print(i)\n",
    "#     print(' '.join([u(k) for k in dfu[dfu.language==i].code]))"
   ]
  },
  {
   "cell_type": "markdown",
   "id": "ab7136a0",
   "metadata": {},
   "source": [
    "<font size = \"5\">  </font>"
   ]
  },
  {
   "cell_type": "markdown",
   "id": "5f0cbf24",
   "metadata": {},
   "source": [
    "<font size = \"5\"> Printing Myanmar Representations </font>"
   ]
  },
  {
   "cell_type": "markdown",
   "id": "ee281519",
   "metadata": {},
   "source": [
    "' '.join() just joins a bunch of objects in a list separated by whatever is in the apostrophes. In this case, a space is in the apostrophes. This is once again masking the dfu dataframe using the true/false statement of whether the language = Myanmar. Reminder: dfu.rep is just the column \"rep\" so we're printing all the representations."
   ]
  },
  {
   "cell_type": "code",
   "execution_count": 7,
   "id": "a8979a63-6cde-49b2-abdd-bf8b8d698fed",
   "metadata": {},
   "outputs": [
    {
     "data": {
      "text/plain": [
       "'က ခ ဂ ဃ င စ ဆ ဇ ဈ ဉ ည ဋ ဌ ဍ ဎ ဏ တ ထ ဒ ဓ န ပ ဖ ဗ ဘ မ ယ ရ လ ဝ သ ဟ ဠ အ ဢ ဣ ဤ ဥ ဦ ဧ ဨ ဩ ဪ ါ ာ ိ ီ ု ူ ေ ဲ ဳ ဴ ဵ ံ ့ း ္ ် ျ ြ ွ ှ ဿ ၀ ၁ ၂ ၃ ၄ ၅ ၆ ၇ ၈ ၉ ၊ ။ ၌ ၍ ၎ ၏ ၐ ၑ ၒ ၓ ၔ ၕ ၖ ၗ ၘ ၙ ၚ ၛ ၜ ၝ ၞ ၟ ၠ ၡ ၢ ၣ ၤ ၥ ၦ ၧ ၨ ၩ ၪ ၫ ၬ ၭ ၮ ၯ ၰ ၱ ၲ ၳ ၴ ၵ ၶ ၷ ၸ ၹ ၺ ၻ ၼ ၽ ၾ ၿ ႀ ႁ ႂ ႃ ႄ ႅ ႆ ႇ ႈ ႉ ႊ ႋ ႌ ႍ ႎ ႏ ႐ ႑ ႒ ႓ ႔ ႕ ႖ ႗ ႘ ႙ ႚ ႛ ႜ ႝ ႞ ႟ ꧠ ꧡ ꧢ ꧣ ꧤ ꧥ ꧦ ꧧ ꧨ ꧩ ꧪ ꧫ ꧬ ꧭ ꧮ ꧯ ꧰ ꧱ ꧲ ꧳ ꧴ ꧵ ꧶ ꧷ ꧸ ꧹ ꧺ ꧻ ꧼ ꧽ ꧾ ꩠ ꩡ ꩢ ꩣ ꩤ ꩥ ꩦ ꩧ ꩨ ꩩ ꩪ ꩫ ꩬ ꩭ ꩮ ꩯ ꩰ ꩱ ꩲ ꩳ ꩴ ꩵ ꩶ ꩷ ꩸ ꩹ ꩺ ꩻ ꩼ ꩽ ꩾ ꩿ'"
      ]
     },
     "execution_count": 7,
     "metadata": {},
     "output_type": "execute_result"
    }
   ],
   "source": [
    "' '.join(dfu[dfu.language=='MYANMAR'].rep)"
   ]
  },
  {
   "cell_type": "code",
   "execution_count": 9,
   "id": "bc6938c8-017e-48f4-a755-2ccbeb620ccd",
   "metadata": {},
   "outputs": [
    {
     "data": {
      "image/png": "[encoded data removed]",
      "text/plain": [
       "<Figure size 432x288 with 1 Axes>"
      ]
     },
     "metadata": {
      "needs_background": "light"
     },
     "output_type": "display_data"
    },
    {
     "name": "stdout",
     "output_type": "stream",
     "text": [
      "CPU times: total: 19 s\n",
      "Wall time: 21.6 s\n"
     ]
    }
   ],
   "source": [
    "%%time\n",
    "#prints wall time for the whole cell\n",
    "dfu['picture'] = dfu.code.apply(lambda x: make_picture(x,'data/ttfs/NotoSans-Regular.ttf')) #again, applying function to column\n",
    "plt.imshow(dfu.iloc[2280].picture,cmap='gray')\n",
    "plt.show()"
   ]
  },
  {
   "cell_type": "markdown",
   "id": "ce383a20",
   "metadata": {},
   "source": [
    "<font size = \"5\"> Sorting in Order of Complexity </font>\n",
    "\n",
    "This complexity metric only computes fraction of black pixels in image to determine a \"complexity\""
   ]
  },
  {
   "cell_type": "code",
   "execution_count": 10,
   "id": "dc2df00f-66d1-48ad-b0f9-86c5d5ee939f",
   "metadata": {},
   "outputs": [
    {
     "data": {
      "text/plain": [
       "'Ԫ   ℻   Ꙭ   �   ‱   Ǆ   Ꚙ   Ꝏ   Ꚗ   Ǳ   Ѭ   Ꚅ   ǅ   Ѹ   Ꟃ   Ꜵ   ॵ   Ꜳ   ʥ   औ   ꟿ   ԫ   ʤ   Ǌ   ऑ   ǋ   ऒ   Ԭ   ǲ   ǆ   ᵺ   Щ   Ѽ   ओ   ꭦ   Ŵ   ‰   Ӎ   Ꝡ   Ꙝ   Ꙧ   Ԣ   Ѿ   Ɱ   Ѩ   Ƣ   Ҧ   ﬄ   Ю   ꚗ   Ẃ   Ẁ   Ḿ   Ẅ   Ꙕ   ॠ   ॴ   Ꚛ   ₯   Ẇ   Ẉ   ꭁ   Ш   Ṁ   Ṃ   Ǿ   Ꜽ   ￼   Ԡ   Ǣ   ⁂   ʣ   ℔   ख़   Ꙣ   ǳ   №   ﬃ   Ꝙ   Ԙ   ѹ   ᾯ   ᾮ   Ꜩ   Ҋ   Œ   Ӂ   Ɯ   Ԝ   W   Ǽ   Μ   М   M   ꟽ   ₪   Ⱳ   Ꚉ   Ꚁ   आ'"
      ]
     },
     "execution_count": 10,
     "metadata": {},
     "output_type": "execute_result"
    }
   ],
   "source": [
    "dfu['pixel_count_complexity'] = dfu.picture.apply(pixel_count_complexity)\n",
    "\n",
    "'   '.join(dfu.sort_values('pixel_count_complexity',ascending=True).rep.iloc[:100].values)"
   ]
  },
  {
   "cell_type": "code",
   "execution_count": 13,
   "id": "3ecc9b0b-ff96-4793-8611-867ba0bea807",
   "metadata": {},
   "outputs": [
    {
     "data": {
      "image/png": "[encoded data removed]",
      "text/plain": [
       "<Figure size 432x288 with 1 Axes>"
      ]
     },
     "metadata": {
      "needs_background": "light"
     },
     "output_type": "display_data"
    }
   ],
   "source": [
    "plt.hist(dfu.pixel_count_complexity, bins=np.arange(.994,1.0002,.0001)); plt.xlabel('Complexity')\n",
    "plt.yscale('log')\n",
    "plt.show()"
   ]
  }
 ],
 "metadata": {
  "kernelspec": {
   "display_name": "Python 3 (ipykernel)",
   "language": "python",
   "name": "python3"
  },
  "language_info": {
   "codemirror_mode": {
    "name": "ipython",
    "version": 3
   },
   "file_extension": ".py",
   "mimetype": "text/x-python",
   "name": "python",
   "nbconvert_exporter": "python",
   "pygments_lexer": "ipython3",
   "version": "3.8.8"
  }
 },
 "nbformat": 4,
 "nbformat_minor": 5
}
